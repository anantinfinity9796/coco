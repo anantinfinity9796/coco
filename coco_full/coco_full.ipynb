{
 "cells": [
  {
   "cell_type": "code",
   "execution_count": 2,
   "metadata": {},
   "outputs": [],
   "source": [
    "import torch\n",
    "import torch.nn as nn\n",
    "from torch.utils.data import Dataset\n",
    "import torchvision\n",
    "torch.random.manual_seed(42)\n",
    "torch.cuda.manual_seed(42)\n",
    "import pandas as pd\n",
    "import pandas as pd\n",
    "from utils import make_vocab, stoi, training_loop\n",
    "from model import CustomResNet\n",
    "from dataset import CocoDataset\n",
    "from tqdm import tqdm, trange\n",
    "from torchvision.transforms import Compose, Resize, Normalize, CenterCrop\n",
    "from torchvision.models import resnet50, ResNet50_Weights\n",
    "from torch.utils.data import DataLoader\n",
    "import torchvision\n",
    "import torch.optim as optim\n",
    "import torch.nn.functional as F\n",
    "import matplotlib.pyplot as plt"
   ]
  },
  {
   "cell_type": "code",
   "execution_count": 3,
   "metadata": {},
   "outputs": [
    {
     "data": {
      "text/html": [
       "<div>\n",
       "<style scoped>\n",
       "    .dataframe tbody tr th:only-of-type {\n",
       "        vertical-align: middle;\n",
       "    }\n",
       "\n",
       "    .dataframe tbody tr th {\n",
       "        vertical-align: top;\n",
       "    }\n",
       "\n",
       "    .dataframe thead th {\n",
       "        text-align: right;\n",
       "    }\n",
       "</style>\n",
       "<table border=\"1\" class=\"dataframe\">\n",
       "  <thead>\n",
       "    <tr style=\"text-align: right;\">\n",
       "      <th></th>\n",
       "      <th>image_id</th>\n",
       "      <th>file_name</th>\n",
       "      <th>captions</th>\n",
       "      <th>caption_token_set</th>\n",
       "      <th>idx_captions</th>\n",
       "      <th>tokens</th>\n",
       "      <th>shortest_token</th>\n",
       "      <th>shortest_token_len</th>\n",
       "    </tr>\n",
       "  </thead>\n",
       "  <tbody>\n",
       "    <tr>\n",
       "      <th>0</th>\n",
       "      <td>57870</td>\n",
       "      <td>COCO_train2014_000000057870.jpg</td>\n",
       "      <td>[[a, restaurant, has, modern, wooden, tables, ...</td>\n",
       "      <td>[arrangement, is, flower, on, table, blue, top...</td>\n",
       "      <td>[[27, 13, 25, 23, 9, 30, 12, 19], [27, 22, 13,...</td>\n",
       "      <td>[[a, restaurant, has, modern, wooden, tables, ...</td>\n",
       "      <td>[a, table, is, adorned, with, wooden, chairs, ...</td>\n",
       "      <td>11</td>\n",
       "    </tr>\n",
       "    <tr>\n",
       "      <th>1</th>\n",
       "      <td>384029</td>\n",
       "      <td>COCO_train2014_000000384029.jpg</td>\n",
       "      <td>[[a, man, preparing, desserts, in, a, kitchen,...</td>\n",
       "      <td>[types, desserts, person, is, kitchen, many, u...</td>\n",
       "      <td>[[27, 53, 56, 33, 29, 27, 35, 42, 29, 50], [27...</td>\n",
       "      <td>[[a, man, preparing, desserts, in, a, kitchen,...</td>\n",
       "      <td>[close, up, of, a, hand, touching, various, pa...</td>\n",
       "      <td>9</td>\n",
       "    </tr>\n",
       "    <tr>\n",
       "      <th>2</th>\n",
       "      <td>222016</td>\n",
       "      <td>COCO_train2014_000000222016.jpg</td>\n",
       "      <td>[[a, big, red, telephone, booth, that, a, man,...</td>\n",
       "      <td>[inside, person, image, standing, is, an, that...</td>\n",
       "      <td>[[27, 66, 62, 67, 65, 61, 27, 53, 1, 59, 29], ...</td>\n",
       "      <td>[[a, big, red, telephone, booth, that, a, man,...</td>\n",
       "      <td>[a, man, using, a, phone, in, a, phone, booth, .]</td>\n",
       "      <td>10</td>\n",
       "    </tr>\n",
       "    <tr>\n",
       "      <th>3</th>\n",
       "      <td>520950</td>\n",
       "      <td>COCO_train2014_000000520950.jpg</td>\n",
       "      <td>[[the, kitchen, is, full, of, spices, on, the,...</td>\n",
       "      <td>[is, on, that, kitchen, all, utilizes, with, i...</td>\n",
       "      <td>[[20, 35, 1, 73, 28, 80, 3, 20, 75], [27, 35, ...</td>\n",
       "      <td>[[the, kitchen, is, full, of, spices, on, the,...</td>\n",
       "      <td>[a, very, small, kitchen, with, a, stove, and,...</td>\n",
       "      <td>12</td>\n",
       "    </tr>\n",
       "    <tr>\n",
       "      <th>4</th>\n",
       "      <td>69675</td>\n",
       "      <td>COCO_train2014_000000069675.jpg</td>\n",
       "      <td>[[a, child, and, woman, are, cooking, in, the,...</td>\n",
       "      <td>[child, woman, person, on, women, an, together...</td>\n",
       "      <td>[[27, 88, 12, 89, 94, 98, 29, 20, 99], [27, 89...</td>\n",
       "      <td>[[a, child, and, woman, are, cooking, in, the,...</td>\n",
       "      <td>[two, women, cooking, on, stove, in, a, kitche...</td>\n",
       "      <td>10</td>\n",
       "    </tr>\n",
       "    <tr>\n",
       "      <th>...</th>\n",
       "      <td>...</td>\n",
       "      <td>...</td>\n",
       "      <td>...</td>\n",
       "      <td>...</td>\n",
       "      <td>...</td>\n",
       "      <td>...</td>\n",
       "      <td>...</td>\n",
       "      <td>...</td>\n",
       "    </tr>\n",
       "    <tr>\n",
       "      <th>66657</th>\n",
       "      <td>53136</td>\n",
       "      <td>COCO_train2014_000000053136.jpg</td>\n",
       "      <td>[[vegetable, and, rice, dish, served, in, a, w...</td>\n",
       "      <td>[bed, vegetables, on, white, top, with, pasta,...</td>\n",
       "      <td>[[2753, 12, 2778, 339, 995, 29, 27, 118, 358],...</td>\n",
       "      <td>[[vegetable, and, rice, dish, served, in, a, w...</td>\n",
       "      <td>[a, white, bowl, contains, shredded, cabbage, ...</td>\n",
       "      <td>9</td>\n",
       "    </tr>\n",
       "    <tr>\n",
       "      <th>66658</th>\n",
       "      <td>360271</td>\n",
       "      <td>COCO_train2014_000000360271.jpg</td>\n",
       "      <td>[[women, sitting, at, a, dinner, table, with, ...</td>\n",
       "      <td>[woman, another, dinner., sitting, is, watchin...</td>\n",
       "      <td>[[90, 215, 102, 27, 311, 4, 7, 140, 145, 102, ...</td>\n",
       "      <td>[[women, sitting, at, a, dinner, table, with, ...</td>\n",
       "      <td>[a, bunch, of, women, are, eating, at, a, table]</td>\n",
       "      <td>9</td>\n",
       "    </tr>\n",
       "    <tr>\n",
       "      <th>66660</th>\n",
       "      <td>444010</td>\n",
       "      <td>COCO_train2014_000000444010.jpg</td>\n",
       "      <td>[[a, group, of, friends, sitting, down, at, a,...</td>\n",
       "      <td>[woman, jovial, sitting, table, group, togethe...</td>\n",
       "      <td>[[27, 362, 28, 2829, 215, 144, 102, 27, 4, 330...</td>\n",
       "      <td>[[a, group, of, friends, sitting, down, at, a,...</td>\n",
       "      <td>[a, jovial, older, couple, and, a, young, woma...</td>\n",
       "      <td>14</td>\n",
       "    </tr>\n",
       "    <tr>\n",
       "      <th>66661</th>\n",
       "      <td>565004</td>\n",
       "      <td>COCO_train2014_000000565004.jpg</td>\n",
       "      <td>[[wine, being, poured, into, a, glass, over, a...</td>\n",
       "      <td>[another, is, on, table, wine, with, red, glas...</td>\n",
       "      <td>[[418, 319, 6776, 161, 27, 686, 139, 27, 4], [...</td>\n",
       "      <td>[[wine, being, poured, into, a, glass, over, a...</td>\n",
       "      <td>[a, wine, glass, being, filled, with, red, win...</td>\n",
       "      <td>9</td>\n",
       "    </tr>\n",
       "    <tr>\n",
       "      <th>66662</th>\n",
       "      <td>516168</td>\n",
       "      <td>COCO_train2014_000000516168.jpg</td>\n",
       "      <td>[[a, man, is, standing, behind, a, bar, with, ...</td>\n",
       "      <td>[paper, glases, standing, is, sitting, on, tab...</td>\n",
       "      <td>[[27, 53, 1, 59, 135, 27, 3694, 7, 15795], [27...</td>\n",
       "      <td>[[a, man, is, standing, behind, a, bar, with, ...</td>\n",
       "      <td>[a, man, is, sitting, at, a, table, with, pape...</td>\n",
       "      <td>13</td>\n",
       "    </tr>\n",
       "  </tbody>\n",
       "</table>\n",
       "<p>62726 rows × 8 columns</p>\n",
       "</div>"
      ],
      "text/plain": [
       "       image_id                        file_name  \\\n",
       "0         57870  COCO_train2014_000000057870.jpg   \n",
       "1        384029  COCO_train2014_000000384029.jpg   \n",
       "2        222016  COCO_train2014_000000222016.jpg   \n",
       "3        520950  COCO_train2014_000000520950.jpg   \n",
       "4         69675  COCO_train2014_000000069675.jpg   \n",
       "...         ...                              ...   \n",
       "66657     53136  COCO_train2014_000000053136.jpg   \n",
       "66658    360271  COCO_train2014_000000360271.jpg   \n",
       "66660    444010  COCO_train2014_000000444010.jpg   \n",
       "66661    565004  COCO_train2014_000000565004.jpg   \n",
       "66662    516168  COCO_train2014_000000516168.jpg   \n",
       "\n",
       "                                                captions  \\\n",
       "0      [[a, restaurant, has, modern, wooden, tables, ...   \n",
       "1      [[a, man, preparing, desserts, in, a, kitchen,...   \n",
       "2      [[a, big, red, telephone, booth, that, a, man,...   \n",
       "3      [[the, kitchen, is, full, of, spices, on, the,...   \n",
       "4      [[a, child, and, woman, are, cooking, in, the,...   \n",
       "...                                                  ...   \n",
       "66657  [[vegetable, and, rice, dish, served, in, a, w...   \n",
       "66658  [[women, sitting, at, a, dinner, table, with, ...   \n",
       "66660  [[a, group, of, friends, sitting, down, at, a,...   \n",
       "66661  [[wine, being, poured, into, a, glass, over, a...   \n",
       "66662  [[a, man, is, standing, behind, a, bar, with, ...   \n",
       "\n",
       "                                       caption_token_set  \\\n",
       "0      [arrangement, is, flower, on, table, blue, top...   \n",
       "1      [types, desserts, person, is, kitchen, many, u...   \n",
       "2      [inside, person, image, standing, is, an, that...   \n",
       "3      [is, on, that, kitchen, all, utilizes, with, i...   \n",
       "4      [child, woman, person, on, women, an, together...   \n",
       "...                                                  ...   \n",
       "66657  [bed, vegetables, on, white, top, with, pasta,...   \n",
       "66658  [woman, another, dinner., sitting, is, watchin...   \n",
       "66660  [woman, jovial, sitting, table, group, togethe...   \n",
       "66661  [another, is, on, table, wine, with, red, glas...   \n",
       "66662  [paper, glases, standing, is, sitting, on, tab...   \n",
       "\n",
       "                                            idx_captions  \\\n",
       "0      [[27, 13, 25, 23, 9, 30, 12, 19], [27, 22, 13,...   \n",
       "1      [[27, 53, 56, 33, 29, 27, 35, 42, 29, 50], [27...   \n",
       "2      [[27, 66, 62, 67, 65, 61, 27, 53, 1, 59, 29], ...   \n",
       "3      [[20, 35, 1, 73, 28, 80, 3, 20, 75], [27, 35, ...   \n",
       "4      [[27, 88, 12, 89, 94, 98, 29, 20, 99], [27, 89...   \n",
       "...                                                  ...   \n",
       "66657  [[2753, 12, 2778, 339, 995, 29, 27, 118, 358],...   \n",
       "66658  [[90, 215, 102, 27, 311, 4, 7, 140, 145, 102, ...   \n",
       "66660  [[27, 362, 28, 2829, 215, 144, 102, 27, 4, 330...   \n",
       "66661  [[418, 319, 6776, 161, 27, 686, 139, 27, 4], [...   \n",
       "66662  [[27, 53, 1, 59, 135, 27, 3694, 7, 15795], [27...   \n",
       "\n",
       "                                                  tokens  \\\n",
       "0      [[a, restaurant, has, modern, wooden, tables, ...   \n",
       "1      [[a, man, preparing, desserts, in, a, kitchen,...   \n",
       "2      [[a, big, red, telephone, booth, that, a, man,...   \n",
       "3      [[the, kitchen, is, full, of, spices, on, the,...   \n",
       "4      [[a, child, and, woman, are, cooking, in, the,...   \n",
       "...                                                  ...   \n",
       "66657  [[vegetable, and, rice, dish, served, in, a, w...   \n",
       "66658  [[women, sitting, at, a, dinner, table, with, ...   \n",
       "66660  [[a, group, of, friends, sitting, down, at, a,...   \n",
       "66661  [[wine, being, poured, into, a, glass, over, a...   \n",
       "66662  [[a, man, is, standing, behind, a, bar, with, ...   \n",
       "\n",
       "                                          shortest_token  shortest_token_len  \n",
       "0      [a, table, is, adorned, with, wooden, chairs, ...                  11  \n",
       "1      [close, up, of, a, hand, touching, various, pa...                   9  \n",
       "2      [a, man, using, a, phone, in, a, phone, booth, .]                  10  \n",
       "3      [a, very, small, kitchen, with, a, stove, and,...                  12  \n",
       "4      [two, women, cooking, on, stove, in, a, kitche...                  10  \n",
       "...                                                  ...                 ...  \n",
       "66657  [a, white, bowl, contains, shredded, cabbage, ...                   9  \n",
       "66658   [a, bunch, of, women, are, eating, at, a, table]                   9  \n",
       "66660  [a, jovial, older, couple, and, a, young, woma...                  14  \n",
       "66661  [a, wine, glass, being, filled, with, red, win...                   9  \n",
       "66662  [a, man, is, sitting, at, a, table, with, pape...                  13  \n",
       "\n",
       "[62726 rows x 8 columns]"
      ]
     },
     "execution_count": 3,
     "metadata": {},
     "output_type": "execute_result"
    }
   ],
   "source": [
    "image_captions_df = pd.read_parquet('F://coco/captions/image_captions_df_less_than_15.parquet')\n",
    "image_captions_df"
   ]
  },
  {
   "cell_type": "code",
   "execution_count": 4,
   "metadata": {},
   "outputs": [],
   "source": [
    "def make_vocab(token_list):\n",
    "    \"\"\" This function takes in a token list and adds the unique tokens to the vocabulary.\"\"\"\n",
    "    for tokens in  token_list:\n",
    "        for token in tokens:\n",
    "            if token in vocab_dict:\n",
    "                vocab_dict[token] +=1\n",
    "            else:\n",
    "                vocab_dict[token] = 1\n",
    "    return vocab_dict\n",
    "\n",
    "def make_vocab_shortest(token):\n",
    "    \"\"\" This function takes in a token list and adds the unique tokens to the vocabulary.\"\"\"\n",
    "    for word in token:\n",
    "        if word in vocab_dict:\n",
    "            vocab_dict[word] +=1\n",
    "        else:\n",
    "            vocab_dict[word] = 1\n",
    "    return vocab_dict\n",
    "\n",
    "def stoi(captions_list, chartoidx):\n",
    "    \"\"\" Function to convert the string tokens to integers.\n",
    "        Also adds the <start>, <end> & <unk> tokens to form the final list to be fed in the RNN\n",
    "        INPUT --> list of captions with \n",
    "        OUPUT --> \"\"\"\n",
    "    caption_token_list = []\n",
    "    for caption in captions_list:\n",
    "        tokens_list = [chartoidx['<start>']] + []\n",
    "        for token in caption:\n",
    "            try:\n",
    "                tokens_list.append(chartoidx[token])\n",
    "            except:\n",
    "                tokens_list.append(chartoidx['<unk>'])\n",
    "        tokens_list = tokens_list + [chartoidx['<end>']]\n",
    "        caption_token_list.append(tokens_list)\n",
    "    return caption_token_list\n",
    "\n",
    "\n",
    "def convert_shortest_token(token_list,chartoidx):\n",
    "    new_token_list = [chartoidx['<start>']]\n",
    "    for token in token_list:\n",
    "        new_token_list = new_token_list  + [chartoidx[token]]\n",
    "    new_token_list = new_token_list + [chartoidx['<end>']]\n",
    "    return new_token_list"
   ]
  },
  {
   "attachments": {},
   "cell_type": "markdown",
   "metadata": {},
   "source": [
    "First and foremost we would have to change the way that we are making the dataset because previously we were giving all the five caption and then taking the first from them. Now we would have to give only one caption."
   ]
  },
  {
   "cell_type": "code",
   "execution_count": 5,
   "metadata": {},
   "outputs": [
    {
     "data": {
      "text/html": [
       "<div>\n",
       "<style scoped>\n",
       "    .dataframe tbody tr th:only-of-type {\n",
       "        vertical-align: middle;\n",
       "    }\n",
       "\n",
       "    .dataframe tbody tr th {\n",
       "        vertical-align: top;\n",
       "    }\n",
       "\n",
       "    .dataframe thead th {\n",
       "        text-align: right;\n",
       "    }\n",
       "</style>\n",
       "<table border=\"1\" class=\"dataframe\">\n",
       "  <thead>\n",
       "    <tr style=\"text-align: right;\">\n",
       "      <th></th>\n",
       "      <th>image_id</th>\n",
       "      <th>file_name</th>\n",
       "      <th>captions</th>\n",
       "      <th>caption_token_set</th>\n",
       "      <th>idx_captions</th>\n",
       "      <th>tokens</th>\n",
       "      <th>shortest_token</th>\n",
       "      <th>shortest_token_len</th>\n",
       "      <th>shortest_idx_tokens</th>\n",
       "    </tr>\n",
       "  </thead>\n",
       "  <tbody>\n",
       "    <tr>\n",
       "      <th>0</th>\n",
       "      <td>57870</td>\n",
       "      <td>COCO_train2014_000000057870.jpg</td>\n",
       "      <td>[[a, restaurant, has, modern, wooden, tables, ...</td>\n",
       "      <td>[arrangement, is, flower, on, table, blue, top...</td>\n",
       "      <td>[[27, 13, 25, 23, 9, 30, 12, 19], [27, 22, 13,...</td>\n",
       "      <td>[[a, restaurant, has, modern, wooden, tables, ...</td>\n",
       "      <td>[a, table, is, adorned, with, wooden, chairs, ...</td>\n",
       "      <td>11</td>\n",
       "      <td>[10933, 0, 1, 2, 3, 4, 5, 6, 4, 7, 8, 9, 10934]</td>\n",
       "    </tr>\n",
       "    <tr>\n",
       "      <th>1</th>\n",
       "      <td>384029</td>\n",
       "      <td>COCO_train2014_000000384029.jpg</td>\n",
       "      <td>[[a, man, preparing, desserts, in, a, kitchen,...</td>\n",
       "      <td>[types, desserts, person, is, kitchen, many, u...</td>\n",
       "      <td>[[27, 53, 56, 33, 29, 27, 35, 42, 29, 50], [27...</td>\n",
       "      <td>[[a, man, preparing, desserts, in, a, kitchen,...</td>\n",
       "      <td>[close, up, of, a, hand, touching, various, pa...</td>\n",
       "      <td>9</td>\n",
       "      <td>[10933, 10, 11, 12, 0, 13, 14, 15, 16, 9, 10934]</td>\n",
       "    </tr>\n",
       "    <tr>\n",
       "      <th>2</th>\n",
       "      <td>222016</td>\n",
       "      <td>COCO_train2014_000000222016.jpg</td>\n",
       "      <td>[[a, big, red, telephone, booth, that, a, man,...</td>\n",
       "      <td>[inside, person, image, standing, is, an, that...</td>\n",
       "      <td>[[27, 66, 62, 67, 65, 61, 27, 53, 1, 59, 29], ...</td>\n",
       "      <td>[[a, big, red, telephone, booth, that, a, man,...</td>\n",
       "      <td>[a, man, using, a, phone, in, a, phone, booth, .]</td>\n",
       "      <td>10</td>\n",
       "      <td>[10933, 0, 17, 18, 0, 19, 20, 0, 19, 21, 9, 10...</td>\n",
       "    </tr>\n",
       "    <tr>\n",
       "      <th>3</th>\n",
       "      <td>520950</td>\n",
       "      <td>COCO_train2014_000000520950.jpg</td>\n",
       "      <td>[[the, kitchen, is, full, of, spices, on, the,...</td>\n",
       "      <td>[is, on, that, kitchen, all, utilizes, with, i...</td>\n",
       "      <td>[[20, 35, 1, 73, 28, 80, 3, 20, 75], [27, 35, ...</td>\n",
       "      <td>[[the, kitchen, is, full, of, spices, on, the,...</td>\n",
       "      <td>[a, very, small, kitchen, with, a, stove, and,...</td>\n",
       "      <td>12</td>\n",
       "      <td>[10933, 0, 22, 23, 24, 4, 0, 25, 26, 0, 27, 12...</td>\n",
       "    </tr>\n",
       "    <tr>\n",
       "      <th>4</th>\n",
       "      <td>69675</td>\n",
       "      <td>COCO_train2014_000000069675.jpg</td>\n",
       "      <td>[[a, child, and, woman, are, cooking, in, the,...</td>\n",
       "      <td>[child, woman, person, on, women, an, together...</td>\n",
       "      <td>[[27, 88, 12, 89, 94, 98, 29, 20, 99], [27, 89...</td>\n",
       "      <td>[[a, child, and, woman, are, cooking, in, the,...</td>\n",
       "      <td>[two, women, cooking, on, stove, in, a, kitche...</td>\n",
       "      <td>10</td>\n",
       "      <td>[10933, 29, 30, 31, 32, 25, 20, 0, 24, 33, 9, ...</td>\n",
       "    </tr>\n",
       "    <tr>\n",
       "      <th>...</th>\n",
       "      <td>...</td>\n",
       "      <td>...</td>\n",
       "      <td>...</td>\n",
       "      <td>...</td>\n",
       "      <td>...</td>\n",
       "      <td>...</td>\n",
       "      <td>...</td>\n",
       "      <td>...</td>\n",
       "      <td>...</td>\n",
       "    </tr>\n",
       "    <tr>\n",
       "      <th>66657</th>\n",
       "      <td>53136</td>\n",
       "      <td>COCO_train2014_000000053136.jpg</td>\n",
       "      <td>[[vegetable, and, rice, dish, served, in, a, w...</td>\n",
       "      <td>[bed, vegetables, on, white, top, with, pasta,...</td>\n",
       "      <td>[[2753, 12, 2778, 339, 995, 29, 27, 118, 358],...</td>\n",
       "      <td>[[vegetable, and, rice, dish, served, in, a, w...</td>\n",
       "      <td>[a, white, bowl, contains, shredded, cabbage, ...</td>\n",
       "      <td>9</td>\n",
       "      <td>[10933, 0, 169, 281, 1033, 2233, 1767, 26, 117...</td>\n",
       "    </tr>\n",
       "    <tr>\n",
       "      <th>66658</th>\n",
       "      <td>360271</td>\n",
       "      <td>COCO_train2014_000000360271.jpg</td>\n",
       "      <td>[[women, sitting, at, a, dinner, table, with, ...</td>\n",
       "      <td>[woman, another, dinner., sitting, is, watchin...</td>\n",
       "      <td>[[90, 215, 102, 27, 311, 4, 7, 140, 145, 102, ...</td>\n",
       "      <td>[[women, sitting, at, a, dinner, table, with, ...</td>\n",
       "      <td>[a, bunch, of, women, are, eating, at, a, table]</td>\n",
       "      <td>9</td>\n",
       "      <td>[10933, 0, 106, 12, 30, 214, 389, 336, 0, 1, 1...</td>\n",
       "    </tr>\n",
       "    <tr>\n",
       "      <th>66660</th>\n",
       "      <td>444010</td>\n",
       "      <td>COCO_train2014_000000444010.jpg</td>\n",
       "      <td>[[a, group, of, friends, sitting, down, at, a,...</td>\n",
       "      <td>[woman, jovial, sitting, table, group, togethe...</td>\n",
       "      <td>[[27, 362, 28, 2829, 215, 144, 102, 27, 4, 330...</td>\n",
       "      <td>[[a, group, of, friends, sitting, down, at, a,...</td>\n",
       "      <td>[a, jovial, older, couple, and, a, young, woma...</td>\n",
       "      <td>14</td>\n",
       "      <td>[10933, 0, 2839, 1195, 293, 26, 0, 72, 139, 15...</td>\n",
       "    </tr>\n",
       "    <tr>\n",
       "      <th>66661</th>\n",
       "      <td>565004</td>\n",
       "      <td>COCO_train2014_000000565004.jpg</td>\n",
       "      <td>[[wine, being, poured, into, a, glass, over, a...</td>\n",
       "      <td>[another, is, on, table, wine, with, red, glas...</td>\n",
       "      <td>[[418, 319, 6776, 161, 27, 686, 139, 27, 4], [...</td>\n",
       "      <td>[[wine, being, poured, into, a, glass, over, a...</td>\n",
       "      <td>[a, wine, glass, being, filled, with, red, win...</td>\n",
       "      <td>9</td>\n",
       "      <td>[10933, 0, 631, 277, 108, 61, 4, 93, 631, 9, 1...</td>\n",
       "    </tr>\n",
       "    <tr>\n",
       "      <th>66662</th>\n",
       "      <td>516168</td>\n",
       "      <td>COCO_train2014_000000516168.jpg</td>\n",
       "      <td>[[a, man, is, standing, behind, a, bar, with, ...</td>\n",
       "      <td>[paper, glases, standing, is, sitting, on, tab...</td>\n",
       "      <td>[[27, 53, 1, 59, 135, 27, 3694, 7, 15795], [27...</td>\n",
       "      <td>[[a, man, is, standing, behind, a, bar, with, ...</td>\n",
       "      <td>[a, man, is, sitting, at, a, table, with, pape...</td>\n",
       "      <td>13</td>\n",
       "      <td>[10933, 0, 17, 2, 136, 336, 0, 1, 4, 656, 26, ...</td>\n",
       "    </tr>\n",
       "  </tbody>\n",
       "</table>\n",
       "<p>62726 rows × 9 columns</p>\n",
       "</div>"
      ],
      "text/plain": [
       "       image_id                        file_name  \\\n",
       "0         57870  COCO_train2014_000000057870.jpg   \n",
       "1        384029  COCO_train2014_000000384029.jpg   \n",
       "2        222016  COCO_train2014_000000222016.jpg   \n",
       "3        520950  COCO_train2014_000000520950.jpg   \n",
       "4         69675  COCO_train2014_000000069675.jpg   \n",
       "...         ...                              ...   \n",
       "66657     53136  COCO_train2014_000000053136.jpg   \n",
       "66658    360271  COCO_train2014_000000360271.jpg   \n",
       "66660    444010  COCO_train2014_000000444010.jpg   \n",
       "66661    565004  COCO_train2014_000000565004.jpg   \n",
       "66662    516168  COCO_train2014_000000516168.jpg   \n",
       "\n",
       "                                                captions  \\\n",
       "0      [[a, restaurant, has, modern, wooden, tables, ...   \n",
       "1      [[a, man, preparing, desserts, in, a, kitchen,...   \n",
       "2      [[a, big, red, telephone, booth, that, a, man,...   \n",
       "3      [[the, kitchen, is, full, of, spices, on, the,...   \n",
       "4      [[a, child, and, woman, are, cooking, in, the,...   \n",
       "...                                                  ...   \n",
       "66657  [[vegetable, and, rice, dish, served, in, a, w...   \n",
       "66658  [[women, sitting, at, a, dinner, table, with, ...   \n",
       "66660  [[a, group, of, friends, sitting, down, at, a,...   \n",
       "66661  [[wine, being, poured, into, a, glass, over, a...   \n",
       "66662  [[a, man, is, standing, behind, a, bar, with, ...   \n",
       "\n",
       "                                       caption_token_set  \\\n",
       "0      [arrangement, is, flower, on, table, blue, top...   \n",
       "1      [types, desserts, person, is, kitchen, many, u...   \n",
       "2      [inside, person, image, standing, is, an, that...   \n",
       "3      [is, on, that, kitchen, all, utilizes, with, i...   \n",
       "4      [child, woman, person, on, women, an, together...   \n",
       "...                                                  ...   \n",
       "66657  [bed, vegetables, on, white, top, with, pasta,...   \n",
       "66658  [woman, another, dinner., sitting, is, watchin...   \n",
       "66660  [woman, jovial, sitting, table, group, togethe...   \n",
       "66661  [another, is, on, table, wine, with, red, glas...   \n",
       "66662  [paper, glases, standing, is, sitting, on, tab...   \n",
       "\n",
       "                                            idx_captions  \\\n",
       "0      [[27, 13, 25, 23, 9, 30, 12, 19], [27, 22, 13,...   \n",
       "1      [[27, 53, 56, 33, 29, 27, 35, 42, 29, 50], [27...   \n",
       "2      [[27, 66, 62, 67, 65, 61, 27, 53, 1, 59, 29], ...   \n",
       "3      [[20, 35, 1, 73, 28, 80, 3, 20, 75], [27, 35, ...   \n",
       "4      [[27, 88, 12, 89, 94, 98, 29, 20, 99], [27, 89...   \n",
       "...                                                  ...   \n",
       "66657  [[2753, 12, 2778, 339, 995, 29, 27, 118, 358],...   \n",
       "66658  [[90, 215, 102, 27, 311, 4, 7, 140, 145, 102, ...   \n",
       "66660  [[27, 362, 28, 2829, 215, 144, 102, 27, 4, 330...   \n",
       "66661  [[418, 319, 6776, 161, 27, 686, 139, 27, 4], [...   \n",
       "66662  [[27, 53, 1, 59, 135, 27, 3694, 7, 15795], [27...   \n",
       "\n",
       "                                                  tokens  \\\n",
       "0      [[a, restaurant, has, modern, wooden, tables, ...   \n",
       "1      [[a, man, preparing, desserts, in, a, kitchen,...   \n",
       "2      [[a, big, red, telephone, booth, that, a, man,...   \n",
       "3      [[the, kitchen, is, full, of, spices, on, the,...   \n",
       "4      [[a, child, and, woman, are, cooking, in, the,...   \n",
       "...                                                  ...   \n",
       "66657  [[vegetable, and, rice, dish, served, in, a, w...   \n",
       "66658  [[women, sitting, at, a, dinner, table, with, ...   \n",
       "66660  [[a, group, of, friends, sitting, down, at, a,...   \n",
       "66661  [[wine, being, poured, into, a, glass, over, a...   \n",
       "66662  [[a, man, is, standing, behind, a, bar, with, ...   \n",
       "\n",
       "                                          shortest_token  shortest_token_len  \\\n",
       "0      [a, table, is, adorned, with, wooden, chairs, ...                  11   \n",
       "1      [close, up, of, a, hand, touching, various, pa...                   9   \n",
       "2      [a, man, using, a, phone, in, a, phone, booth, .]                  10   \n",
       "3      [a, very, small, kitchen, with, a, stove, and,...                  12   \n",
       "4      [two, women, cooking, on, stove, in, a, kitche...                  10   \n",
       "...                                                  ...                 ...   \n",
       "66657  [a, white, bowl, contains, shredded, cabbage, ...                   9   \n",
       "66658   [a, bunch, of, women, are, eating, at, a, table]                   9   \n",
       "66660  [a, jovial, older, couple, and, a, young, woma...                  14   \n",
       "66661  [a, wine, glass, being, filled, with, red, win...                   9   \n",
       "66662  [a, man, is, sitting, at, a, table, with, pape...                  13   \n",
       "\n",
       "                                     shortest_idx_tokens  \n",
       "0        [10933, 0, 1, 2, 3, 4, 5, 6, 4, 7, 8, 9, 10934]  \n",
       "1       [10933, 10, 11, 12, 0, 13, 14, 15, 16, 9, 10934]  \n",
       "2      [10933, 0, 17, 18, 0, 19, 20, 0, 19, 21, 9, 10...  \n",
       "3      [10933, 0, 22, 23, 24, 4, 0, 25, 26, 0, 27, 12...  \n",
       "4      [10933, 29, 30, 31, 32, 25, 20, 0, 24, 33, 9, ...  \n",
       "...                                                  ...  \n",
       "66657  [10933, 0, 169, 281, 1033, 2233, 1767, 26, 117...  \n",
       "66658  [10933, 0, 106, 12, 30, 214, 389, 336, 0, 1, 1...  \n",
       "66660  [10933, 0, 2839, 1195, 293, 26, 0, 72, 139, 15...  \n",
       "66661  [10933, 0, 631, 277, 108, 61, 4, 93, 631, 9, 1...  \n",
       "66662  [10933, 0, 17, 2, 136, 336, 0, 1, 4, 656, 26, ...  \n",
       "\n",
       "[62726 rows x 9 columns]"
      ]
     },
     "execution_count": 5,
     "metadata": {},
     "output_type": "execute_result"
    }
   ],
   "source": [
    "vocab_dict = {}\n",
    "image_captions_df['shortest_token'].apply(lambda x : make_vocab_shortest(x))\n",
    "\n",
    "chartoidx = {}    # create the character to index dictionary for tokens and their integer representations.\n",
    "idxtochar = []    # index to char list. Useful for decoding the output from the neural net. \n",
    "for i,word in enumerate(vocab_dict.keys()):\n",
    "    chartoidx[word] = i\n",
    "    idxtochar.append(word)\n",
    "\n",
    "idxtochar = idxtochar + ['<unk>','<start>','<end>','<pad>']    # add additional tokens\n",
    "chartoidx.update({'<unk>':10932,                       # add addtional tokens and their corresponding numbers \n",
    "                        '<start>':10933,\n",
    "                        '<end>':10934,\n",
    "                        '<pad>':10935})\n",
    "\n",
    "# Add an idx_tokens column to the dataframe to house the integer representation of the token strings.\n",
    "image_captions_df['shortest_idx_tokens'] = image_captions_df['shortest_token'].apply(lambda x : convert_shortest_token(x, chartoidx))\n",
    "image_captions_df"
   ]
  },
  {
   "cell_type": "code",
   "execution_count": 6,
   "metadata": {},
   "outputs": [],
   "source": [
    "class CocoDataset(Dataset):\n",
    "    def __init__(self,image_label_df, val_stride = 10, is_val_set_bool = False, test_data_set =False, test_stride = 5, transforms = None):\n",
    "        \n",
    "        self.transfrom = transforms\n",
    "        self.is_val_set_bool = is_val_set_bool\n",
    "        self.val_stride = val_stride\n",
    "        self.image_label_df = image_label_df.copy()\n",
    "        self.test_data_set = test_data_set\n",
    "        self.test_stride = test_stride\n",
    "\n",
    "        if self.test_data_set: #If we need only a small subset of the data to work with\n",
    "            self.image_label_df = self.image_label_df[::test_stride].reset_index(drop = True)\n",
    "\n",
    "        elif self.is_val_set_bool: # If we need only the validation data then return the validation data which is a subset of total data\n",
    "            assert self.val_stride > 0\n",
    "            self.image_label_df = self.image_label_df[::val_stride]\n",
    "\n",
    "        elif self.val_stride > 0:  # Else if val_stride is greater than zero then return the remaining dataframe after removing 10% of data\n",
    "            self.image_label_df = self.image_label_df.drop(index = list(range(0,len(self.image_label_df),self.val_stride)))\n",
    "            \n",
    "        else: # else train on the full dataset\n",
    "            self.image_label_df = self.image_label_df\n",
    "        \n",
    "    def __len__(self):\n",
    "        \"\"\" This method calculates the length of your data.\"\"\"\n",
    "        return len(self.image_label_df)\n",
    "\n",
    "    # Now we will introduce function which gives us an image and its corresponding labels by id\n",
    "    def get_image_by_id(self, img_id = None):\n",
    "        \"\"\" This function returns an image by its id and the corresponding multiple labesl in a present/no_present binary format\"\"\"\n",
    "        \n",
    "\n",
    "        folder_path = 'F://coco/train2014/train2014/'\n",
    "\n",
    "        if img_id == None:\n",
    "            raise ValueError('Must provide IMAGE ID')\n",
    "\n",
    "        else:\n",
    "            row = self.image_label_df[self.image_label_df['image_id']==img_id]\n",
    "            file_name = row['file_name'].values[0]\n",
    "\n",
    "            captions_array = torch.tensor(row['shortest_idx_tokens'][0])\n",
    "\n",
    "            # Get the image-data from file_name\n",
    "            image_array = torchvision.io.read_image(folder_path + file_name)\n",
    "            image_array = (image_array/255.0).to(torch.float32)\n",
    "            image_array = self.transfrom(image_array).to(torch.float32)\n",
    "        \n",
    "            return image_array, captions_array\n",
    "\n",
    "\n",
    "    # Now we would write the code for returning the image from index and its corresponding labels. Which would be used by the train/val dataloaders\n",
    "    def __getitem__(self, ndx):\n",
    "\n",
    "        \"\"\" This function takes in an index and returns the image and the labels of the image at that index\"\"\"\n",
    "        folder_path = 'F://coco/train2014/train2014/'\n",
    "        \n",
    "        row = self.image_label_df.iloc[ndx]\n",
    "        # print(row)\n",
    "\n",
    "        # Now get the image_id and the file_name of the image\n",
    "        image_id = row['image_id']\n",
    "        file_name = row['file_name']\n",
    "    \n",
    "        # Now get the captions array from the dataframe\n",
    "        captions_array = torch.tensor(row['shortest_idx_tokens'])\n",
    "        # Now get the image_data from storage\n",
    "        image_array = torchvision.io.read_image(folder_path + file_name)\n",
    "        image_array = (image_array/255.0).to(torch.float32)\n",
    "        image_array = self.transfrom(image_array).to(torch.float32)\n",
    "        # print(captions_array)\n",
    "        return (image_array, captions_array, image_id)"
   ]
  },
  {
   "cell_type": "code",
   "execution_count": 7,
   "metadata": {},
   "outputs": [
    {
     "data": {
      "text/plain": [
       "Compose(\n",
       "    Resize(size=(256, 256), interpolation=bilinear, max_size=None, antialias=None)\n",
       "    CenterCrop(size=(224, 224))\n",
       "    Normalize(mean=[0.485, 0.456, 0.406], std=[0.229, 0.224, 0.225])\n",
       ")"
      ]
     },
     "execution_count": 7,
     "metadata": {},
     "output_type": "execute_result"
    }
   ],
   "source": [
    "manual_transforms = Compose([\n",
    "                            Resize(size = (256,256)),\n",
    "                            CenterCrop(size=(224,224)),\n",
    "                            Normalize(mean=[0.485, 0.456, 0.406], std=[0.229, 0.224, 0.225])\n",
    "    ])\n",
    "manual_transforms"
   ]
  },
  {
   "attachments": {},
   "cell_type": "markdown",
   "metadata": {},
   "source": [
    "Create the dataset and the dataloader"
   ]
  },
  {
   "cell_type": "code",
   "execution_count": 8,
   "metadata": {},
   "outputs": [],
   "source": [
    "\n",
    "test_coco = CocoDataset(image_label_df=image_captions_df, test_data_set=True, test_stride=50, transforms=manual_transforms)\n",
    "\n",
    "# test_coco_dataloader = DataLoader(dataset=test_coco, pin_memory = True,batch_size=1,drop_last=True)"
   ]
  },
  {
   "cell_type": "code",
   "execution_count": 9,
   "metadata": {},
   "outputs": [
    {
     "data": {
      "text/plain": [
       "(tensor([[[-0.4194, -0.5215, -0.3499,  ...,  0.0569,  0.0190, -0.0546],\n",
       "          [-0.2803, -0.3488, -0.3995,  ...,  0.2443, -0.3111, -0.3452],\n",
       "          [-0.6214,  0.0502, -0.3616,  ...,  0.0390, -0.1889,  0.1635],\n",
       "          ...,\n",
       "          [ 0.2360,  0.4205,  0.5730,  ...,  0.4654,  0.3614, -0.0659],\n",
       "          [ 0.1195, -0.2944,  0.3056,  ..., -0.5064,  0.1997,  0.1842],\n",
       "          [ 0.2686,  0.0471,  0.3231,  ..., -0.9453, -0.8082, -0.0601]],\n",
       " \n",
       "         [[-0.3731, -0.3770, -0.2355,  ...,  0.0563,  0.0564,  0.0194],\n",
       "          [-0.0875, -0.2351, -0.2816,  ...,  0.3123, -0.2014, -0.2679],\n",
       "          [-0.4465,  0.0220, -0.3223,  ...,  0.0897, -0.0805,  0.2395],\n",
       "          ...,\n",
       "          [-0.0603,  0.1459,  0.2290,  ...,  0.1597,  0.0125, -0.3780],\n",
       "          [-0.2493, -0.4594, -0.0641,  ..., -0.6146, -0.0675, -0.0654],\n",
       "          [ 0.0457,  0.0455,  0.2447,  ..., -1.2820, -1.0236, -0.3395]],\n",
       " \n",
       "         [[-1.2547, -1.1833, -1.1456,  ..., -1.1020, -1.0698, -1.0849],\n",
       "          [-1.1302, -1.1799, -1.1441,  ..., -0.7907, -1.1027, -0.9084],\n",
       "          [-1.3267, -0.9888, -1.3376,  ..., -1.0990, -1.1286, -0.6891],\n",
       "          ...,\n",
       "          [-0.7683, -0.6297, -0.5164,  ..., -0.0728, -0.2328, -0.4354],\n",
       "          [-0.8083, -1.0887, -0.7133,  ..., -0.7458, -0.2176, -0.3092],\n",
       "          [-0.7435, -0.8148, -0.6414,  ..., -1.1895, -1.0499, -0.4210]]]),\n",
       " tensor([10933,    29,   415,    20,     0,   441,   271,   125,   491,     9,\n",
       "         10934]),\n",
       " 348850)"
      ]
     },
     "execution_count": 9,
     "metadata": {},
     "output_type": "execute_result"
    }
   ],
   "source": [
    "test_images = CocoDataset(image_label_df = image_captions_df, test_data_set=True, test_stride=80, transforms=manual_transforms)\n",
    "test_images[2]"
   ]
  },
  {
   "cell_type": "code",
   "execution_count": 64,
   "metadata": {},
   "outputs": [
    {
     "data": {
      "text/plain": [
       "(tensor([[[ 1.9845,  2.0282,  2.1066,  ..., -1.5453, -1.4803, -1.4329],\n",
       "          [ 2.0787,  2.1186,  2.1630,  ..., -1.5129, -1.5295, -1.3770],\n",
       "          [ 2.1288,  2.1801,  2.2007,  ..., -1.5440, -1.5506, -1.3885],\n",
       "          ...,\n",
       "          [-0.8186, -0.9293, -1.2151,  ...,  1.1449,  1.2222,  1.1112],\n",
       "          [-0.6762, -0.9331, -1.2721,  ...,  1.2070,  1.0772,  1.0296],\n",
       "          [-0.9186, -0.8472, -1.1707,  ...,  1.1230,  0.9924,  1.0074]],\n",
       " \n",
       "         [[ 1.4887,  1.5653,  1.6484,  ..., -1.5204, -1.5866, -1.5113],\n",
       "          [ 1.5893,  1.6470,  1.7540,  ..., -1.5135, -1.5127, -1.5059],\n",
       "          [ 1.6629,  1.7494,  1.8205,  ..., -1.5403, -1.5721, -1.5089],\n",
       "          ...,\n",
       "          [-1.5387, -1.5428, -1.6320,  ...,  1.4164,  1.5767,  1.4394],\n",
       "          [-1.5362, -1.5023, -1.5565,  ...,  1.5152,  1.3464,  1.2955],\n",
       "          [-1.3907, -1.5480, -1.5731,  ...,  1.5051,  1.3453,  1.2162]],\n",
       " \n",
       "         [[ 0.9374,  0.8916,  1.0398,  ..., -1.2865, -1.2206, -1.2715],\n",
       "          [ 0.9505,  0.9995,  1.0825,  ..., -1.2421, -1.2148, -1.2298],\n",
       "          [ 0.9622,  1.0594,  1.1498,  ..., -1.3093, -1.2048, -1.2603],\n",
       "          ...,\n",
       "          [-1.7369, -1.5738, -1.6620,  ...,  2.5869,  2.5992,  2.5899],\n",
       "          [-1.3750, -1.7236, -1.6854,  ...,  2.5207,  2.4834,  2.5896],\n",
       "          [-1.3431, -1.6244, -1.6013,  ...,  2.6326,  2.5245,  2.5520]]]),\n",
       " tensor([10933,     0,     1,     2,     3,     4,     5,     6,     4,     7,\n",
       "             8,     9, 10934]),\n",
       " 57870)"
      ]
     },
     "execution_count": 64,
     "metadata": {},
     "output_type": "execute_result"
    }
   ],
   "source": [
    "test_coco[0]"
   ]
  },
  {
   "attachments": {},
   "cell_type": "markdown",
   "metadata": {},
   "source": [
    "Now we would instantiate the pretrained model for using it in our custom model"
   ]
  },
  {
   "cell_type": "code",
   "execution_count": null,
   "metadata": {},
   "outputs": [],
   "source": []
  },
  {
   "cell_type": "code",
   "execution_count": 14,
   "metadata": {},
   "outputs": [
    {
     "name": "stdout",
     "output_type": "stream",
     "text": [
      "torch.Size([1, 1000])\n"
     ]
    }
   ],
   "source": [
    "# image, caption, _  = test_coco[0]\n",
    "# with torch.no_grad():\n",
    "#     output = res_50(image.unsqueeze(0))\n",
    "#     print(output.shape)"
   ]
  },
  {
   "attachments": {},
   "cell_type": "markdown",
   "metadata": {},
   "source": [
    "Now we would create out custom model which uses the pretrained model"
   ]
  },
  {
   "attachments": {},
   "cell_type": "markdown",
   "metadata": {},
   "source": [
    "In this custom model we would use a RNN layer instead of a RNN cell. We would also use a fixed length input with a sequence lenght of 15."
   ]
  },
  {
   "cell_type": "code",
   "execution_count": null,
   "metadata": {},
   "outputs": [],
   "source": [
    "class CustomResNet(nn.Module):\n",
    "    def __init__(self, chartoidx, idxtochar, pretrained_model = None ):\n",
    "        super().__init__()\n",
    "\n",
    "\n",
    "\n",
    "        for parameter in pretrained_model.parameters():\n",
    "            parameter.requires_grad = False\n",
    "\n",
    "        \n",
    "        pretrained_model.fc = nn.Linear(2048,256)\n",
    "\n",
    "        self.chartoidx = chartoidx\n",
    "        self.idxtochar = idxtochar\n",
    "        self.backbone = nn.Sequential(pretrained_model)\n",
    "        # Till the previous step we have a pretrained Resnet whose weights we have frozen. Now we will define the RNN\n",
    "\n",
    "         \n",
    "\n",
    "        # self.embedding_matrix = torch.randn(len(chartoidx), 50, requires_grad=True) / (len(chartoidx)**0.5)\n",
    "        self.embedding_matrix = nn.Embedding(len(self.chartoidx), 50)\n",
    "        self.rnn = nn.RNN(input_size=15, hidden_size = 256, num_layers = 1, nonlinearity='tanh', batch_first = True)  # here we have defined the RNN layer\n",
    "        self.output_layer = nn.Linear(256,len(self.chartoidx))\n",
    "\n",
    "        # self.cross_entopy_loss = nn.CrossEntropyLoss()\n",
    "\n",
    "    def forward(self, image, caption_list):\n",
    "        out_backbone = self.backbone(image)\n",
    "        # print(f\"The output backbone image shape is {out_backbone.shape}\")\n",
    "        hidden = out_backbone.squeeze(0)\n",
    "        # print(f\"the hidden shape from image is {hidden.shape}\")\n",
    "        i = 0\n",
    "        # new_char_id = char_id\n",
    "        loss_word_list = []\n",
    "        # current_word_id = caption_list[i]\n",
    "        # target_index = caption_list[i+1]\n",
    "        \n",
    "        while True:\n",
    "            \n",
    "            if i == 0:\n",
    "                current_word_id = caption_list[0]    # start at the first word i.e the <start> token\n",
    "                target_index = caption_list[i+1]\n",
    "            if self.idxtochar[target_index] == '<end>':\n",
    "                break\n",
    "            if i!=0 and i<len(caption_list)-1:\n",
    "                target_index = caption_list[i+1]\n",
    "            out_embedding = self.embedding_matrix(current_word_id)  # embedding_shape = (1,50)\n",
    "            # print(out_embedding.shape)\n",
    "            # print(out_embedding, out_embedding.requires_grad)\n",
    "            # print(f\"The out embedding shape is {out_embedding.shape}\")\n",
    "            # calculate the hidden state activation from the embedding and the previous hidden state and get the next hidden state\n",
    "            hidden = self.rnn(out_embedding, hidden)   # hidden_shape = (1,1024)\n",
    "\n",
    "            # Now dish out the output_logits of the current time step\n",
    "            output_logits = self.output_layer(hidden)   # output_logits shape (1,len(vocab))\n",
    "            # print(f\"The shape of output logits is {output_logits.shape}\")\n",
    "\n",
    "            # # calculate the probabilities of the characters\n",
    "            probs =  torch.softmax(output_logits, dim = 0)         # probs_shape = (1,len(vocab))\n",
    "\n",
    "            # print(f\"The shape of probs is {probs.shape}\")\n",
    "            # print(f\"The shape of output probabilities is {probs.shape}\")\n",
    "            # # Now get the index of the larget probability.\n",
    "            next_word_id = torch.argmax(probs, dim =0)\n",
    "            # print(f\"the next word id  is {idxtochar[next_word_id.item()]}, and id is {next_word_id.item()}\")\n",
    "\n",
    "            # Now we will take the next_word that the cell thinks will be and do two things.\n",
    "            # First we use it and the target to calculate the loss\n",
    "            current_word_loss = cross_entropy(probs, target_index)\n",
    "            # append the current_word_loss to loss_word_list\n",
    "            loss_word_list.append(current_word_loss)\n",
    "            \n",
    "            # Second we would use the index of the current most probable output word as an input of the next time-step\n",
    "            current_word_id = next_word_id\n",
    "            # increase the value of i by 1 so that we can get the target word for the next input word\n",
    "            i+=1\n",
    "            \n",
    "        final_loss = torch.sum(torch.tensor(loss_word_list, requires_grad=True))\n",
    "        return final_loss"
   ]
  },
  {
   "cell_type": "code",
   "execution_count": 16,
   "metadata": {},
   "outputs": [],
   "source": [
    "from torch.nn.utils.rnn import pad_sequence"
   ]
  },
  {
   "cell_type": "code",
   "execution_count": 22,
   "metadata": {},
   "outputs": [
    {
     "name": "stdout",
     "output_type": "stream",
     "text": [
      "tensor([[ 4,  5,  6,  7,  8,  1,  2, 15, 16, 19, 25, 21,  5,  9, 17],\n",
      "        [ 1,  2,  3,  4,  5,  6,  7,  8,  8, 12, 10,  0,  0,  0,  0]])\n"
     ]
    }
   ],
   "source": [
    "embedding_mat = nn.Embedding(30,10)\n",
    "caption_1 = torch.tensor([4,5,6,7,8,1,2,15,16,19,25,21,5,9,17])\n",
    "caption_2 = torch.tensor([1,2,3,4,5,6,7,8,8,12,10])\n",
    "pad_init = pad_sequence([caption_1, caption_2],batch_first=True)\n",
    "print(pad_init)"
   ]
  },
  {
   "cell_type": "code",
   "execution_count": 27,
   "metadata": {},
   "outputs": [
    {
     "name": "stdout",
     "output_type": "stream",
     "text": [
      "torch.Size([2, 15, 10])\n"
     ]
    }
   ],
   "source": [
    "input = embedding_mat(pad_init)\n",
    "print(input.shape)"
   ]
  },
  {
   "cell_type": "code",
   "execution_count": 29,
   "metadata": {},
   "outputs": [],
   "source": [
    "rnn_layer = nn.RNN(input_size=10, hidden_size = 256, num_layers = 1, nonlinearity='tanh', batch_first = True)\n",
    "output, h = rnn_layer(input)"
   ]
  },
  {
   "cell_type": "code",
   "execution_count": 31,
   "metadata": {},
   "outputs": [
    {
     "name": "stdout",
     "output_type": "stream",
     "text": [
      "256\n"
     ]
    }
   ],
   "source": [
    "print(rnn_layer.hidden_size)"
   ]
  },
  {
   "cell_type": "code",
   "execution_count": 32,
   "metadata": {},
   "outputs": [
    {
     "name": "stdout",
     "output_type": "stream",
     "text": [
      "torch.Size([256, 256])\n",
      "torch.Size([256, 10])\n"
     ]
    },
    {
     "data": {
      "text/plain": [
       "(None, None)"
      ]
     },
     "execution_count": 32,
     "metadata": {},
     "output_type": "execute_result"
    }
   ],
   "source": [
    "print(rnn_layer.weight_hh_l0.shape), print(rnn_layer.weight_ih_l0.shape)"
   ]
  },
  {
   "cell_type": "code",
   "execution_count": 30,
   "metadata": {},
   "outputs": [
    {
     "name": "stdout",
     "output_type": "stream",
     "text": [
      "torch.Size([2, 15, 256])\n",
      "torch.Size([1, 2, 256])\n"
     ]
    }
   ],
   "source": [
    "print(output.shape)\n",
    "print(h.shape)"
   ]
  },
  {
   "cell_type": "code",
   "execution_count": 39,
   "metadata": {},
   "outputs": [],
   "source": [
    "rnn = nn.RNN(10, 20, 1, batch_first = True)  # input_size = 10(10 features per input in a sequence), hidden_size = 20, num_layers = 2\n",
    "input = torch.randn(3, 5, 10) # batch of 3 examples with sequence lenth of 5 and 10 features per object in the sequence\n",
    "h0 = torch.randn(1, 3, 20)  # D*num_layers(1*2), batch_size = 3 , hidden_size = 20\n",
    "output, hn = rnn(input, h0) "
   ]
  },
  {
   "cell_type": "code",
   "execution_count": 40,
   "metadata": {},
   "outputs": [
    {
     "name": "stdout",
     "output_type": "stream",
     "text": [
      "The hidden weights shape is torch.Size([20, 20])\n",
      "The input weights shape is torch.Size([20, 10])\n"
     ]
    }
   ],
   "source": [
    "print(f\"The hidden weights shape is {rnn.weight_hh_l0.shape}\")\n",
    "print(f\"The input weights shape is {rnn.weight_ih_l0.shape}\")"
   ]
  },
  {
   "attachments": {},
   "cell_type": "markdown",
   "metadata": {},
   "source": [
    "So what happens here is that  for each input of shape (1,5,10) i.e (batch_size, sequence_length, num_features) in the batch at each time step i.e for each value in the sequence of the shape (1,1,10) it is taking in the value, then performing the calculation of multiplying the value with the input weight matrix i.e of the shape(20,10).T (according to recurrence formula) and taking the hidden_state of the pervious iteration of the shape (1,3,20) and multiplying it with the hidden state matrix to yield the shape of (1,3,20). Then after all the timesteps are over i.e when the each value of the sequence is finished then what it does is that it concatenates all the ouput of shape(1,1,20) to (3,5,20) i.e concatenates all the individual values into sequences and then all the individual sequences to batches and give out the final output of the rnn i.e the ouput of the shape of (3,5,20) and also the hidden state of the rnn i.e the hn of the shape of (1,3,20)"
   ]
  },
  {
   "cell_type": "code",
   "execution_count": 41,
   "metadata": {},
   "outputs": [
    {
     "data": {
      "text/plain": [
       "(torch.Size([3, 5, 20]), torch.Size([1, 3, 20]))"
      ]
     },
     "execution_count": 41,
     "metadata": {},
     "output_type": "execute_result"
    }
   ],
   "source": [
    "output.shape, hn.shape"
   ]
  },
  {
   "attachments": {},
   "cell_type": "markdown",
   "metadata": {},
   "source": [
    "But the problem that we could run here is that we could we cannot change the recurrence formula of the solution so we need to write  our own RNN layer which takes in an input sequence and the tensor from the convolution backbone and then uses it to make predictions."
   ]
  },
  {
   "cell_type": "code",
   "execution_count": 11,
   "metadata": {},
   "outputs": [],
   "source": [
    "# class ManyToManyRNN(nn.Module):\n",
    "#     def __init__(self, input_size, hidden_size, output_size):\n",
    "#         super().__init__()\n",
    "#         self.rnncell = nn.RNNCell(input_size=input_size, hidden_size= hidden_size, nonlinearity='relu')\n",
    "#         self.weight_hy = torch.randn(hidden_size,output_size, requires_grad=True) * 0.01\n",
    "\n",
    "#     def forward(self, previous_state, input_tensor):\n",
    "#         \"\"\" Function to process the input_captions one by one at a time and give an ouput tensor\"\"\"\n",
    "#         # This line would unroll the RNN across time\n",
    "#         hidden_state = self.rnncell(input_tensor, previous_state)\n",
    "#         # print(f\"the hidden State dim is {hidden_state.shape}\")\n",
    "\n",
    "#         output = hidden_state @ self.weight_hy\n",
    "\n",
    "#         return (output, hidden_state)\n",
    "\n",
    "\n",
    "    "
   ]
  },
  {
   "attachments": {},
   "cell_type": "markdown",
   "metadata": {},
   "source": [
    "#### Now lets put that into our model and try to make out custom model with the rnn piece."
   ]
  },
  {
   "cell_type": "code",
   "execution_count": 11,
   "metadata": {},
   "outputs": [],
   "source": [
    "# Lets create another custome resnet model\n",
    "class CustResnetRnn(nn.Module):\n",
    "    def __init__(self, chartoidx, idxtochar):\n",
    "        super().__init__()\n",
    "\n",
    "        self.chartoidx = chartoidx\n",
    "        self.idxtochar = idxtochar\n",
    "\n",
    "        self.embedding_matrix = nn.Embedding(len(self.idxtochar), 15)\n",
    "        \n",
    "        self.rnn_cell = nn.RNNCell(input_size=15, hidden_size= 1000, nonlinearity='tanh')\n",
    "\n",
    "        self.fc = nn.Linear(1000, len(idxtochar))\n",
    "\n",
    "    def forward(self, hidden_state_vector, input):\n",
    "        embedding  = self.embedding_matrix(input)\n",
    "        # print(f\"The shape of embedding is {embedding.shape}\")\n",
    "        hidden_state = self.rnn_cell(embedding, hidden_state_vector)  \n",
    "        # out_hidden_state = hidden_state.clone()\n",
    "\n",
    "        rnn_output = self.fc(hidden_state)\n",
    "\n",
    "        return rnn_output, hidden_state\n",
    "    \n"
   ]
  },
  {
   "cell_type": "code",
   "execution_count": 71,
   "metadata": {},
   "outputs": [],
   "source": [
    "# Now we will define a new training loop to\n",
    "def training_loop(epochs, train_dataloader, val_dataloader, model, optimizer, res_50_model):\n",
    "    \"\"\" Function to create the training loop which would take in the image and the caption train on it word by word \"\"\"\n",
    "    for epoch in range(epochs):\n",
    "        epoch_loss = 0\n",
    "        for batch in tqdm(train_dataloader):\n",
    "            batch_loss = 0\n",
    "            image, caption, _ = batch\n",
    "            caption = caption[0]\n",
    "            \n",
    "            final_caption = caption[0:len(caption)-1].to(device = torch.device('cuda'))\n",
    "            final_targets = caption[1:len(caption)].to(device = torch.device('cuda'))\n",
    "            image = image.to(torch.device('cuda'))\n",
    "            hidden_state = res_50_model(image)\n",
    "            \n",
    "            optimizer.zero_grad()\n",
    "\n",
    "            # Now we would input the captions into the rnn one by one and start the generation process\n",
    "            new_hidden_state = hidden_state.squeeze(0)\n",
    "            \n",
    "            for i in range(len(final_caption)):\n",
    "                output, new_hidden_state =  model(new_hidden_state, final_caption[i])\n",
    "                # target_tensor = torch.zeros(output.shape)\n",
    "                \n",
    "                # target_tensor[targets[i]] = 1\n",
    "                # print(target_tensor.shape)\n",
    "                output_logits = output.clone()\n",
    "                batch_loss += F.cross_entropy(output_logits,final_targets[i])\n",
    "                # print(loss)\n",
    "            batch_loss = (batch_loss/len(final_caption))\n",
    "            batch_loss.backward()\n",
    "            optimizer.step()\n",
    "            # print(batch_loss)\n",
    "            # print(batch_loss)\n",
    "            epoch_loss += batch_loss.item()\n",
    "        print(f\"The loss is {epoch_loss/len(train_dataloader)}\")"
   ]
  },
  {
   "cell_type": "code",
   "execution_count": 12,
   "metadata": {},
   "outputs": [
    {
     "data": {
      "text/plain": [
       "device(type='cuda')"
      ]
     },
     "execution_count": 12,
     "metadata": {},
     "output_type": "execute_result"
    }
   ],
   "source": [
    "device = torch.device('cuda') if torch.cuda.is_available() else torch.device('cpu')\n",
    "device"
   ]
  },
  {
   "cell_type": "code",
   "execution_count": 13,
   "metadata": {},
   "outputs": [],
   "source": [
    "cust_res_rnn = CustResnetRnn(chartoidx, idxtochar).to(device)\n",
    "\n",
    "res_50 = torchvision.models.resnet50(weights =ResNet50_Weights.DEFAULT).to(device)\n",
    "for parameter in res_50.parameters():\n",
    "    parameter.requires_grad = False"
   ]
  },
  {
   "cell_type": "code",
   "execution_count": 78,
   "metadata": {},
   "outputs": [],
   "source": [
    "adam_optimizer = optim.Adam(cust_res_rnn.parameters(), lr  = 0.00001)"
   ]
  },
  {
   "cell_type": "code",
   "execution_count": 79,
   "metadata": {},
   "outputs": [
    {
     "name": "stderr",
     "output_type": "stream",
     "text": [
      "100%|██████████| 1255/1255 [01:38<00:00, 12.77it/s]\n"
     ]
    },
    {
     "name": "stdout",
     "output_type": "stream",
     "text": [
      "The loss is 0.08097416700802713\n"
     ]
    },
    {
     "name": "stderr",
     "output_type": "stream",
     "text": [
      "100%|██████████| 1255/1255 [01:38<00:00, 12.78it/s]\n"
     ]
    },
    {
     "name": "stdout",
     "output_type": "stream",
     "text": [
      "The loss is 0.06742731228070074\n"
     ]
    },
    {
     "name": "stderr",
     "output_type": "stream",
     "text": [
      "100%|██████████| 1255/1255 [01:44<00:00, 11.97it/s]\n"
     ]
    },
    {
     "name": "stdout",
     "output_type": "stream",
     "text": [
      "The loss is 0.06045154351370031\n"
     ]
    },
    {
     "name": "stderr",
     "output_type": "stream",
     "text": [
      "100%|██████████| 1255/1255 [01:45<00:00, 11.84it/s]\n"
     ]
    },
    {
     "name": "stdout",
     "output_type": "stream",
     "text": [
      "The loss is 0.05565560399610327\n"
     ]
    },
    {
     "name": "stderr",
     "output_type": "stream",
     "text": [
      "100%|██████████| 1255/1255 [01:47<00:00, 11.70it/s]\n"
     ]
    },
    {
     "name": "stdout",
     "output_type": "stream",
     "text": [
      "The loss is 0.05180962479513777\n"
     ]
    },
    {
     "name": "stderr",
     "output_type": "stream",
     "text": [
      "100%|██████████| 1255/1255 [01:47<00:00, 11.71it/s]\n"
     ]
    },
    {
     "name": "stdout",
     "output_type": "stream",
     "text": [
      "The loss is 0.048387199082222596\n"
     ]
    },
    {
     "name": "stderr",
     "output_type": "stream",
     "text": [
      "100%|██████████| 1255/1255 [01:47<00:00, 11.72it/s]\n"
     ]
    },
    {
     "name": "stdout",
     "output_type": "stream",
     "text": [
      "The loss is 0.045541535903777616\n"
     ]
    },
    {
     "name": "stderr",
     "output_type": "stream",
     "text": [
      "100%|██████████| 1255/1255 [01:47<00:00, 11.63it/s]\n"
     ]
    },
    {
     "name": "stdout",
     "output_type": "stream",
     "text": [
      "The loss is 0.04316263711525209\n"
     ]
    },
    {
     "name": "stderr",
     "output_type": "stream",
     "text": [
      "100%|██████████| 1255/1255 [01:47<00:00, 11.65it/s]\n"
     ]
    },
    {
     "name": "stdout",
     "output_type": "stream",
     "text": [
      "The loss is 0.04109224591597143\n"
     ]
    },
    {
     "name": "stderr",
     "output_type": "stream",
     "text": [
      "100%|██████████| 1255/1255 [01:47<00:00, 11.66it/s]"
     ]
    },
    {
     "name": "stdout",
     "output_type": "stream",
     "text": [
      "The loss is 0.038880217528393664\n"
     ]
    },
    {
     "name": "stderr",
     "output_type": "stream",
     "text": [
      "\n"
     ]
    }
   ],
   "source": [
    "training_loop(epochs = 10, train_dataloader=test_coco_dataloader, val_dataloader=None,\n",
    "               model = cust_res_rnn, optimizer=adam_optimizer, res_50_model = res_50)"
   ]
  },
  {
   "cell_type": "code",
   "execution_count": 82,
   "metadata": {},
   "outputs": [],
   "source": [
    "torch.save(cust_res_rnn.state_dict, 'working_rnn_weights.pt')"
   ]
  },
  {
   "cell_type": "code",
   "execution_count": 14,
   "metadata": {},
   "outputs": [
    {
     "data": {
      "text/plain": [
       "CustResnetRnn(\n",
       "  (embedding_matrix): Embedding(10936, 15)\n",
       "  (rnn_cell): RNNCell(15, 1000)\n",
       "  (fc): Linear(in_features=1000, out_features=10936, bias=True)\n",
       ")"
      ]
     },
     "execution_count": 14,
     "metadata": {},
     "output_type": "execute_result"
    }
   ],
   "source": [
    "res_50 = torchvision.models.resnet50(weights =ResNet50_Weights.DEFAULT)\n",
    "rnn_model = torch.load('working_rnn.pth').to(device = torch.device('cpu'))\n",
    "rnn_model\n"
   ]
  },
  {
   "attachments": {},
   "cell_type": "markdown",
   "metadata": {},
   "source": [
    "Now we will write the inference function to see how good responses out model generates."
   ]
  },
  {
   "cell_type": "code",
   "execution_count": 17,
   "metadata": {},
   "outputs": [],
   "source": [
    "import matplotlib.pyplot as plt"
   ]
  },
  {
   "cell_type": "code",
   "execution_count": 15,
   "metadata": {},
   "outputs": [],
   "source": [
    "def inference(backbone, model, image_data,caption):\n",
    "    with torch.no_grad():\n",
    "        word_list = []\n",
    "        hidden_backbone_vector = backbone(image_data).squeeze(0)\n",
    "        start_token = torch.tensor(chartoidx['<start>'])\n",
    "        in_char = start_token\n",
    "        out_index = chartoidx['<start>']\n",
    "        while idxtochar[out_index] != '<end>':\n",
    "            rnn_output, hidden_backbone_vector = model(hidden_backbone_vector,in_char)\n",
    "            out_index = torch.argmax(rnn_output)\n",
    "            word_list.append(idxtochar[out_index])\n",
    "            in_char = out_index\n",
    "    plt.imshow(image_data.squeeze(0).permute(1,2,0).numpy())\n",
    "    print(f\"The correct caption is : {' '.join([idxtochar[x] for x in caption[1:]])}\")\n",
    "    print(f\"The caption for the given image is : {' '.join(word_list)}\")\n",
    "            \n",
    "\n",
    "\n",
    "    "
   ]
  },
  {
   "cell_type": "code",
   "execution_count": 18,
   "metadata": {},
   "outputs": [
    {
     "name": "stderr",
     "output_type": "stream",
     "text": [
      "Clipping input data to the valid range for imshow with RGB data ([0..1] for floats or [0..255] for integers).\n"
     ]
    },
    {
     "name": "stdout",
     "output_type": "stream",
     "text": [
      "The correct caption is : the miniature glass apple has a clock on it . <end>\n",
      "The caption for the given image is : the miniature glass apple has a clock on it . <end>\n"
     ]
    },
    {
     "data": {
      "image/png": "[encoded data removed]",
      "text/plain": [
       "<Figure size 640x480 with 1 Axes>"
      ]
     },
     "metadata": {},
     "output_type": "display_data"
    }
   ],
   "source": [
    "image, caption, _ = test_images[55]\n",
    "image = image.unsqueeze(0)\n",
    "inference(backbone = res_50, model = rnn_model, image_data=image, caption = caption)"
   ]
  },
  {
   "attachments": {},
   "cell_type": "markdown",
   "metadata": {},
   "source": []
  },
  {
   "attachments": {},
   "cell_type": "markdown",
   "metadata": {},
   "source": [
    "#### The model above is not giving out any type of good result. This is because it has just overfitted the training set.\n",
    "#### Things that we can do to improve on it are:\n",
    "1. Train it on the full training set and then see if it is able to perform better.\n",
    "2. Add more layers to the RNN and see the results.\n",
    "3. Unfreeze the weights of the resnet and train/fine_tune the full network jointly.(This would perform better at inference)\n",
    "4. One more thing that we can do here is that instead of getting the most likley character, we could just sample 5 highesst character indices   from the distribution and then at random take one and pass it as input for the next character."
   ]
  },
  {
   "cell_type": "code",
   "execution_count": 63,
   "metadata": {},
   "outputs": [],
   "source": [
    "class CustomResNet(nn.Module):\n",
    "    def __init__(self, chartoidx, idxtochar, pretrained_model = None ):\n",
    "        super().__init__()\n",
    "\n",
    "\n",
    "\n",
    "        for parameter in pretrained_model.parameters():\n",
    "            parameter.requires_grad = False\n",
    "\n",
    "        \n",
    "        # pretrained_model.fc = nn.Linear(2048,256)\n",
    "\n",
    "        self.chartoidx = chartoidx\n",
    "        self.idxtochar = idxtochar\n",
    "        self.backbone = nn.Sequential(pretrained_model)\n",
    "        # Till the previous step we have a pretrained Resnet whose weights we have frozen. Now we will define the RNN\n",
    "\n",
    "         \n",
    "\n",
    "        # self.embedding_matrix = torch.randn(len(chartoidx), 50, requires_grad=True) / (len(chartoidx)**0.5)\n",
    "        self.embedding_matrix = nn.Embedding(len(self.idxtochar), 15)\n",
    "        \n",
    "        self.rnn_cell = nn.RNNCell(input_size=15, hidden_size= 256, nonlinearity='relu')\n",
    "        # self.weight_hy = torch.randn(256,len(self.idxtochar), requires_grad=True) / (256**0.5)\n",
    "        self.fc = nn.Linear(256, len(idxtochar))\n",
    "\n",
    "        # self.cross_entopy_loss = nn.CrossEntropyLoss()\n",
    "\n",
    "    def forward(self, image, caption_list):\n",
    "        out_backbone = self.backbone(image)\n",
    "        # print(f\"The output backbone image shape is {out_backbone.shape}\")\n",
    "        hidden = out_backbone.squeeze(0)\n",
    "        # print(f\"the hidden shape from image is {hidden.shape}\")\n",
    "        i = 0\n",
    "        # new_char_id = char_id\n",
    "        loss_word_list = []\n",
    "        # current_word_id = caption_list[i]\n",
    "        # target_index = caption_list[i+1]\n",
    "        while i<=len(caption_list):\n",
    "            \n",
    "            if i == 0:\n",
    "                current_word_id = caption_list[0]    # start at the first word i.e the <start> token\n",
    "                target_index = caption_list[1]\n",
    "                target_tensor = torch.zeros(len(self.idxtochar))\n",
    "                target_tensor[target_index] = 1\n",
    "            if self.idxtochar[target_index] == '<end>':\n",
    "                break\n",
    "            if i>1 and i<=len(caption_list)-1:\n",
    "                target_index = caption_list[i]\n",
    "                target_tensor = torch.zeros(len(self.idxtochar))\n",
    "                target_tensor[target_index] = 1\n",
    "            out_embedding = self.embedding_matrix(current_word_id)  # embedding_shape = (1,50)\n",
    "            # print(out_embedding.shape)\n",
    "            # print(out_embedding, out_embedding.requires_grad)\n",
    "            # print(f\"The out embedding shape is {out_embedding.shape}\")\n",
    "            # calculate the hidden state activation from the embedding and the previous hidden state and get the next hidden state\n",
    "            hidden = self.rnn_cell(out_embedding,hidden)   # hidden_shape = (1,1024)\n",
    "\n",
    "            output_logits = hidden @ self.weight_hy\n",
    "\n",
    "            # Now dish out the output_logits of the current time step\n",
    "            # output_logits = self.output_layer(hidden)   # output_logits shape (1,len(vocab))\n",
    "            # print(f\"The shape of output logits is {output_logits.shape}\")\n",
    "            # return output_logits\n",
    "            # # calculate the probabilities of the characters\n",
    "            probs =  torch.softmax(output_logits, dim = 0)         # probs_shape = (1,len(vocab))\n",
    "            # print(f\"The shape of the probability tensor after softmax is {probs.shape}\")\n",
    "            # print(f\"The shape of target_tensor is {target_tensor.shape}\")\n",
    "\n",
    "            # print(f\"The shape of probs is {probs.shape}\")\n",
    "            # print(f\"The shape of output probabilities is {probs.shape}\")\n",
    "            # # Now get the index of the larget probability.\n",
    "            next_word_id = torch.argmax(probs, dim =0)\n",
    "            # print(f\"the next word id  is {idxtochar[next_word_id.item()]}, and id is {next_word_id.item()}\")\n",
    "\n",
    "            # Now we will take the next_word that the cell thinks will be and do two things.\n",
    "            # First we use it and the target to calculate the loss\n",
    "            current_word_loss = F.cross_entropy(probs, target_tensor)\n",
    "            # append the current_word_loss to loss_word_list\n",
    "            loss_word_list.append(current_word_loss)\n",
    "            \n",
    "            # Second we would use the index of the current most probable output word as an input of the next time-step\n",
    "            current_word_id = next_word_id\n",
    "            # increase the value of i by 1 so that we can get the target word for the next input word\n",
    "            i+=1\n",
    "            \n",
    "        final_loss = torch.sum(torch.tensor(loss_word_list, requires_grad=True))\n",
    "        return final_loss"
   ]
  },
  {
   "cell_type": "code",
   "execution_count": 64,
   "metadata": {},
   "outputs": [],
   "source": [
    "cust_res = CustomResNet(chartoidx, idxtochar ,pretrained_model=res_50)\n",
    "adam_optimizer = optim.Adam(cust_res.parameters(), lr  = 3e-2)"
   ]
  },
  {
   "attachments": {},
   "cell_type": "markdown",
   "metadata": {},
   "source": [
    "Now lets see how it works in training"
   ]
  },
  {
   "cell_type": "code",
   "execution_count": 65,
   "metadata": {},
   "outputs": [],
   "source": [
    "def training_loop(epochs, train_dataloader, val_dataloader, model, optimizer):\n",
    "    \"\"\" Function to create the training loop which would take in the image and the caption train on it word by word \"\"\"\n",
    "    for epoch in range(epochs):\n",
    "        loss_list = []\n",
    "        for batch in tqdm(train_dataloader):\n",
    "            image, caption, _ = batch\n",
    "            # print(image.shape)\n",
    "            # image = torch.unsqueeze(image, dim=0)\n",
    "            # print(caption.shape)\n",
    "            # image = image.to(device = torch.device('cuda'))\n",
    "            # caption = caption.to(device = torch.device('cuda'))\n",
    "            optimizer.zero_grad()\n",
    "            output =  model(image, caption[0])\n",
    "            return output\n",
    "            # print(output, grad_info)\n",
    "            # break\n",
    "            loss_list.append(output.item())\n",
    "            output.backward()\n",
    "            # print(grad_b)\n",
    "            optimizer.step()\n",
    "            # print(output.item())\n",
    "        print(f\"The loss is {sum(loss_list)/len(loss_list)}\")"
   ]
  },
  {
   "cell_type": "code",
   "execution_count": 66,
   "metadata": {},
   "outputs": [
    {
     "name": "stderr",
     "output_type": "stream",
     "text": [
      "  0%|          | 0/1255 [00:00<?, ?it/s]\n"
     ]
    }
   ],
   "source": [
    "output = training_loop(10, train_dataloader=test_coco_dataloader, val_dataloader=None, model = cust_res, optimizer=adam_optimizer)"
   ]
  },
  {
   "cell_type": "code",
   "execution_count": 67,
   "metadata": {},
   "outputs": [
    {
     "data": {
      "text/plain": [
       "torch.Size([10936])"
      ]
     },
     "execution_count": 67,
     "metadata": {},
     "output_type": "execute_result"
    }
   ],
   "source": [
    "output.shape"
   ]
  },
  {
   "cell_type": "code",
   "execution_count": 68,
   "metadata": {},
   "outputs": [
    {
     "data": {
      "text/plain": [
       "tensor([ 0.1193, -0.0898,  0.1448,  ..., -0.1235, -0.0498, -0.1927],\n",
       "       grad_fn=<SqueezeBackward3>)"
      ]
     },
     "execution_count": 68,
     "metadata": {},
     "output_type": "execute_result"
    }
   ],
   "source": [
    "output"
   ]
  },
  {
   "cell_type": "code",
   "execution_count": 76,
   "metadata": {},
   "outputs": [
    {
     "data": {
      "text/plain": [
       "[<matplotlib.lines.Line2D at 0x2378bd1db20>]"
      ]
     },
     "execution_count": 76,
     "metadata": {},
     "output_type": "execute_result"
    },
    {
     "data": {
      "image/png": "[encoded data removed]",
      "text/plain": [
       "<Figure size 640x480 with 1 Axes>"
      ]
     },
     "metadata": {},
     "output_type": "display_data"
    }
   ],
   "source": [
    "values, bins  = torch.histogram(output.detach(), bins = 50)\n",
    "plt.plot(values)"
   ]
  },
  {
   "cell_type": "code",
   "execution_count": 49,
   "metadata": {},
   "outputs": [
    {
     "data": {
      "text/plain": [
       "[<matplotlib.lines.Line2D at 0x237877d0df0>]"
      ]
     },
     "execution_count": 49,
     "metadata": {},
     "output_type": "execute_result"
    },
    {
     "data": {
      "image/png": "[encoded data removed]",
      "text/plain": [
       "<Figure size 640x480 with 1 Axes>"
      ]
     },
     "metadata": {},
     "output_type": "display_data"
    }
   ],
   "source": [
    "import matplotlib.pyplot as plt\n",
    "# plt.plot(torch.histogram(out.detach().numpy(), bins=50))\n",
    "values, bins = torch.histogram(out.detach(), bins=50)\n",
    "plt.plot(values)\n",
    "# values, bins\n"
   ]
  },
  {
   "cell_type": "code",
   "execution_count": 19,
   "metadata": {},
   "outputs": [
    {
     "data": {
      "text/plain": [
       "tensor(9.2999)"
      ]
     },
     "execution_count": 19,
     "metadata": {},
     "output_type": "execute_result"
    }
   ],
   "source": [
    "-torch.tensor(1/10937).log()"
   ]
  },
  {
   "cell_type": "code",
   "execution_count": null,
   "metadata": {},
   "outputs": [],
   "source": []
  }
 ],
 "metadata": {
  "kernelspec": {
   "display_name": "base",
   "language": "python",
   "name": "python3"
  },
  "language_info": {
   "codemirror_mode": {
    "name": "ipython",
    "version": 3
   },
   "file_extension": ".py",
   "mimetype": "text/x-python",
   "name": "python",
   "nbconvert_exporter": "python",
   "pygments_lexer": "ipython3",
   "version": "3.9.16"
  },
  "orig_nbformat": 4
 },
 "nbformat": 4,
 "nbformat_minor": 2
}
